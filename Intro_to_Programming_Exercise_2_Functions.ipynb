{
  "metadata": {
    "kernelspec": {
      "display_name": "Python 3",
      "language": "python",
      "name": "python3"
    },
    "language_info": {
      "name": "python",
      "version": "3.10.13",
      "mimetype": "text/x-python",
      "codemirror_mode": {
        "name": "ipython",
        "version": 3
      },
      "pygments_lexer": "ipython3",
      "nbconvert_exporter": "python",
      "file_extension": ".py"
    },
    "kaggle": {
      "accelerator": "none",
      "dataSources": [],
      "isInternetEnabled": false,
      "language": "python",
      "sourceType": "notebook",
      "isGpuEnabled": false
    },
    "colab": {
      "name": "Exercise: Functions",
      "provenance": [],
      "include_colab_link": true
    }
  },
  "nbformat_minor": 0,
  "nbformat": 4,
  "cells": [
    {
      "cell_type": "markdown",
      "metadata": {
        "id": "view-in-github",
        "colab_type": "text"
      },
      "source": [
        "<a href=\"https://colab.research.google.com/github/HengamehSM/Kaggle/blob/main/Intro_to_Programming_Exercise_Functions.ipynb\" target=\"_parent\"><img src=\"https://colab.research.google.com/assets/colab-badge.svg\" alt=\"Open In Colab\"/></a>"
      ]
    },
    {
      "cell_type": "markdown",
      "source": [
        "**This notebook is an exercise in the [Intro to Programming](https://www.kaggle.com/learn/intro-to-programming) course.  You can reference the tutorial at [this link](https://www.kaggle.com/alexisbcook/functions).**\n",
        "\n",
        "---\n"
      ],
      "metadata": {
        "id": "OXoir80x5Pba"
      }
    },
    {
      "cell_type": "markdown",
      "source": [
        "In the tutorial, you learned about functions. In this exercise, you'll write some of your own!\n",
        "\n",
        "# Set up the notebook\n",
        "\n",
        "Run the next code cell without changes to set up the notebook."
      ],
      "metadata": {
        "id": "9MH9Lgei5Pbd"
      }
    },
    {
      "cell_type": "code",
      "source": [
        "# Set up the exercise\n",
        "import math\n",
        "from learntools.core import binder\n",
        "binder.bind(globals())\n",
        "from learntools.intro_to_programming.ex2 import *\n",
        "print('Setup complete.')"
      ],
      "metadata": {
        "execution": {
          "iopub.status.busy": "2024-08-16T21:00:39.692357Z",
          "iopub.execute_input": "2024-08-16T21:00:39.692876Z",
          "iopub.status.idle": "2024-08-16T21:00:41.178389Z",
          "shell.execute_reply.started": "2024-08-16T21:00:39.692834Z",
          "shell.execute_reply": "2024-08-16T21:00:41.176935Z"
        },
        "trusted": true,
        "id": "HydyBZ1P5Pbe",
        "outputId": "7d997eac-a5c2-47f5-b8dc-1b1eecc1b878"
      },
      "execution_count": null,
      "outputs": [
        {
          "name": "stdout",
          "text": "Setup complete.\n",
          "output_type": "stream"
        }
      ]
    },
    {
      "cell_type": "markdown",
      "source": [
        "# Question 1\n",
        "\n",
        "In the [House Prices - Advanced Regression Techniques competition](https://www.kaggle.com/c/house-prices-advanced-regression-techniques/overview), you need to use information like the number of bedrooms and bathrooms to predict the price of a house.  Inspired by this competition, you'll write your own function to do this.\n",
        "\n",
        "In the next code cell, create a function `get_expected_cost()` that has two arguments:\n",
        "- `beds` - number of bedrooms\n",
        "- `baths` - number of bathrooms\n",
        "\n",
        "It should return the expected cost of a house with that number of bedrooms and bathrooms.  Assume that:\n",
        "- the expected cost for a house with 0 bedrooms and 0 bathrooms is `80000`.  \n",
        "- each bedroom adds `30000` to the expected cost\n",
        "- each bathroom adds `10000` to the expected cost.\n",
        "\n",
        "For instance,\n",
        "- a house with 1 bedroom and 1 bathroom has an expected cost of `120000`, and\n",
        "- a house with 2 bedrooms and 1 bathroom has an expected cost of `150000`."
      ],
      "metadata": {
        "id": "q8qxIRZi5Pbf"
      }
    },
    {
      "cell_type": "code",
      "source": [
        "# TODO: Complete the function\n",
        "def get_expected_cost(beds, baths):\n",
        "    value = beds * 30000 + baths * 10000 + 80000\n",
        "    return value\n",
        "\n",
        "# Check your answer\n",
        "q1.check()"
      ],
      "metadata": {
        "execution": {
          "iopub.status.busy": "2024-08-16T21:02:18.448153Z",
          "iopub.execute_input": "2024-08-16T21:02:18.448679Z",
          "iopub.status.idle": "2024-08-16T21:02:18.462248Z",
          "shell.execute_reply.started": "2024-08-16T21:02:18.44864Z",
          "shell.execute_reply": "2024-08-16T21:02:18.460982Z"
        },
        "trusted": true,
        "id": "JF7WLryI5Pbg",
        "outputId": "07d71a9a-6165-4664-da79-a31b5d737153"
      },
      "execution_count": null,
      "outputs": [
        {
          "output_type": "display_data",
          "data": {
            "text/plain": "<IPython.core.display.Javascript object>",
            "application/javascript": "parent.postMessage({\"jupyterEvent\": \"custom.exercise_interaction\", \"data\": {\"outcomeType\": 1, \"valueTowardsCompletion\": 0.2, \"interactionType\": 1, \"questionType\": 2, \"questionId\": \"1_GetExpectedCost\", \"learnToolsVersion\": \"0.3.4\", \"failureMessage\": \"\", \"exceptionClass\": \"\", \"trace\": \"\"}}, \"*\")"
          },
          "metadata": {}
        },
        {
          "output_type": "display_data",
          "data": {
            "text/plain": "Correct",
            "text/markdown": "<span style=\"color:#33cc33\">Correct</span>"
          },
          "metadata": {}
        }
      ]
    },
    {
      "cell_type": "code",
      "source": [
        "# Uncomment to see a hint\n",
        "q1.hint()\n",
        "\n",
        "# Uncomment to view the solution\n",
        "q1.solution()"
      ],
      "metadata": {
        "execution": {
          "iopub.status.busy": "2024-08-16T21:02:26.156609Z",
          "iopub.execute_input": "2024-08-16T21:02:26.157034Z",
          "iopub.status.idle": "2024-08-16T21:02:26.172781Z",
          "shell.execute_reply.started": "2024-08-16T21:02:26.157Z",
          "shell.execute_reply": "2024-08-16T21:02:26.171477Z"
        },
        "trusted": true,
        "id": "iHYHB-2H5Pbg",
        "outputId": "3bcea5e2-91b9-4635-c2cd-8539bbea0a15"
      },
      "execution_count": null,
      "outputs": [
        {
          "output_type": "display_data",
          "data": {
            "text/plain": "<IPython.core.display.Javascript object>",
            "application/javascript": "parent.postMessage({\"jupyterEvent\": \"custom.exercise_interaction\", \"data\": {\"interactionType\": 2, \"questionType\": 2, \"questionId\": \"1_GetExpectedCost\", \"learnToolsVersion\": \"0.3.4\", \"valueTowardsCompletion\": 0.0, \"failureMessage\": \"\", \"exceptionClass\": \"\", \"trace\": \"\", \"outcomeType\": 4}}, \"*\")"
          },
          "metadata": {}
        },
        {
          "output_type": "display_data",
          "data": {
            "text/plain": "Hint: The value should be the base cost (`80000`), plus the total cost of the bedrooms (`30000 * beds`), plus the total cost of the bathrooms (`10000 * baths`).",
            "text/markdown": "<span style=\"color:#3366cc\">Hint:</span> The value should be the base cost (`80000`), plus the total cost of the bedrooms (`30000 * beds`), plus the total cost of the bathrooms (`10000 * baths`)."
          },
          "metadata": {}
        },
        {
          "output_type": "display_data",
          "data": {
            "text/plain": "<IPython.core.display.Javascript object>",
            "application/javascript": "parent.postMessage({\"jupyterEvent\": \"custom.exercise_interaction\", \"data\": {\"interactionType\": 3, \"questionType\": 2, \"questionId\": \"1_GetExpectedCost\", \"learnToolsVersion\": \"0.3.4\", \"valueTowardsCompletion\": 0.0, \"failureMessage\": \"\", \"exceptionClass\": \"\", \"trace\": \"\", \"outcomeType\": 4}}, \"*\")"
          },
          "metadata": {}
        },
        {
          "output_type": "display_data",
          "data": {
            "text/plain": "Solution: \n```python\n\ndef get_expected_cost(beds, baths):\n    value = 80000 + 30000 * beds + 10000 * baths\n    return value\n\n```",
            "text/markdown": "<span style=\"color:#33cc99\">Solution:</span> \n```python\n\ndef get_expected_cost(beds, baths):\n    value = 80000 + 30000 * beds + 10000 * baths\n    return value\n\n```"
          },
          "metadata": {}
        }
      ]
    },
    {
      "cell_type": "markdown",
      "source": [
        "# Question 2\n",
        "\n",
        "You are thinking about buying a home and want to get an idea of how much you will spend, based on the number of bedrooms and bathrooms.  You are trying to decide between four different options:\n",
        "- Option 1: house with two bedrooms and three bathrooms\n",
        "- Option 2: house with three bedrooms and two bathrooms\n",
        "- Option 3: house with three bedrooms and three bathrooms\n",
        "- Option 4: house with three bedrooms and four bathrooms\n",
        "\n",
        "Use the `get_expected_cost()` function you defined in question 1 to set `option_1`, `option_2`, `option_3`, and `option_4` to the expected cost of each option."
      ],
      "metadata": {
        "id": "7wAjBi9m5Pbh"
      }
    },
    {
      "cell_type": "code",
      "source": [
        "# TODO: Use the get_expected_cost function to fill in each value\n",
        "option_one = get_expected_cost(2, 3)\n",
        "option_two = get_expected_cost(3, 2)\n",
        "option_three = get_expected_cost(3, 3)\n",
        "option_four = get_expected_cost(3, 4)\n",
        "\n",
        "print(option_one)\n",
        "print(option_two)\n",
        "print(option_three)\n",
        "print(option_four)\n",
        "\n",
        "# Check your answer\n",
        "q2.check()"
      ],
      "metadata": {
        "execution": {
          "iopub.status.busy": "2024-08-16T21:04:13.510648Z",
          "iopub.execute_input": "2024-08-16T21:04:13.511081Z",
          "iopub.status.idle": "2024-08-16T21:04:13.524505Z",
          "shell.execute_reply.started": "2024-08-16T21:04:13.511051Z",
          "shell.execute_reply": "2024-08-16T21:04:13.523202Z"
        },
        "trusted": true,
        "id": "RQMuWkts5Pbh",
        "outputId": "d807d225-fa2e-4932-ced1-e0b9d3ff75a2"
      },
      "execution_count": null,
      "outputs": [
        {
          "name": "stdout",
          "text": "170000\n190000\n200000\n210000\n",
          "output_type": "stream"
        },
        {
          "output_type": "display_data",
          "data": {
            "text/plain": "<IPython.core.display.Javascript object>",
            "application/javascript": "parent.postMessage({\"jupyterEvent\": \"custom.exercise_interaction\", \"data\": {\"outcomeType\": 1, \"valueTowardsCompletion\": 0.2, \"interactionType\": 1, \"questionType\": 1, \"questionId\": \"2_RunGetExpectedCost\", \"learnToolsVersion\": \"0.3.4\", \"failureMessage\": \"\", \"exceptionClass\": \"\", \"trace\": \"\"}}, \"*\")"
          },
          "metadata": {}
        },
        {
          "output_type": "display_data",
          "data": {
            "text/plain": "Correct",
            "text/markdown": "<span style=\"color:#33cc33\">Correct</span>"
          },
          "metadata": {}
        }
      ]
    },
    {
      "cell_type": "code",
      "source": [
        "# Uncomment to see a hint\n",
        "q2.hint()\n",
        "\n",
        "# Uncomment to view the solution\n",
        "q2.solution()"
      ],
      "metadata": {
        "execution": {
          "iopub.status.busy": "2024-08-16T21:04:27.376579Z",
          "iopub.execute_input": "2024-08-16T21:04:27.377344Z",
          "iopub.status.idle": "2024-08-16T21:04:27.392876Z",
          "shell.execute_reply.started": "2024-08-16T21:04:27.377274Z",
          "shell.execute_reply": "2024-08-16T21:04:27.39137Z"
        },
        "trusted": true,
        "id": "gBnwuhdA5Pbh",
        "outputId": "62c9cd40-4e04-476a-c795-d73244e3a3dc"
      },
      "execution_count": null,
      "outputs": [
        {
          "output_type": "display_data",
          "data": {
            "text/plain": "<IPython.core.display.Javascript object>",
            "application/javascript": "parent.postMessage({\"jupyterEvent\": \"custom.exercise_interaction\", \"data\": {\"interactionType\": 2, \"questionType\": 1, \"questionId\": \"2_RunGetExpectedCost\", \"learnToolsVersion\": \"0.3.4\", \"valueTowardsCompletion\": 0.0, \"failureMessage\": \"\", \"exceptionClass\": \"\", \"trace\": \"\", \"outcomeType\": 4}}, \"*\")"
          },
          "metadata": {}
        },
        {
          "output_type": "display_data",
          "data": {
            "text/plain": "Hint: If `option_five` needed to have the expected cost of a house with five bedrooms and three bathrooms, we would write `option_five = get_expected_cost(5, 3)`.",
            "text/markdown": "<span style=\"color:#3366cc\">Hint:</span> If `option_five` needed to have the expected cost of a house with five bedrooms and three bathrooms, we would write `option_five = get_expected_cost(5, 3)`."
          },
          "metadata": {}
        },
        {
          "output_type": "display_data",
          "data": {
            "text/plain": "<IPython.core.display.Javascript object>",
            "application/javascript": "parent.postMessage({\"jupyterEvent\": \"custom.exercise_interaction\", \"data\": {\"interactionType\": 3, \"questionType\": 1, \"questionId\": \"2_RunGetExpectedCost\", \"learnToolsVersion\": \"0.3.4\", \"valueTowardsCompletion\": 0.0, \"failureMessage\": \"\", \"exceptionClass\": \"\", \"trace\": \"\", \"outcomeType\": 4}}, \"*\")"
          },
          "metadata": {}
        },
        {
          "output_type": "display_data",
          "data": {
            "text/plain": "Solution: \n```python\n# Use the get_expected_cost function to fill in each value\noption_one = get_expected_cost(2, 3)\noption_two = get_expected_cost(3, 2)\noption_three = get_expected_cost(3, 3)\noption_four = get_expected_cost(3, 4)\n\n```",
            "text/markdown": "<span style=\"color:#33cc99\">Solution:</span> \n```python\n# Use the get_expected_cost function to fill in each value\noption_one = get_expected_cost(2, 3)\noption_two = get_expected_cost(3, 2)\noption_three = get_expected_cost(3, 3)\noption_four = get_expected_cost(3, 4)\n\n```"
          },
          "metadata": {}
        }
      ]
    },
    {
      "cell_type": "markdown",
      "source": [
        "# Question 3\n",
        "\n",
        "You're a home decorator, and you'd like to use Python to streamline some of your work.  Specifically, you're creating a tool that you intend to use to calculate the cost of painting a room.\n",
        "\n",
        "As a first step, define a function `get_cost()` that takes as input:\n",
        "- `sqft_walls` = total square feet of walls to be painted\n",
        "- `sqft_ceiling` = square feet of ceiling to be painted\n",
        "- `sqft_per_gallon` = number of square feet that you can cover with one gallon of paint\n",
        "- `cost_per_gallon` = cost (in dollars) of one gallon of paint\n",
        "\n",
        "It should return the cost (in dollars) of putting one coat of paint on all walls and the ceiling.  Assume you can buy the exact amount of paint that you need, so you can buy partial gallons (e.g., if you need 7.523 gallons, you can buy that exact amount, instead of needing to buy 8 gallons and waste some paint).  Do not round your answer."
      ],
      "metadata": {
        "id": "kBAnNxe25Pbi"
      }
    },
    {
      "cell_type": "code",
      "source": [
        "# TODO: Finish defining the function\n",
        "def get_cost(sqft_walls, sqft_ceiling, sqft_per_gallon, cost_per_gallon):\n",
        "    cost = ((sqft_walls + sqft_ceiling)/sqft_per_gallon) * cost_per_gallon\n",
        "    return cost\n",
        "\n",
        "# Check your answer\n",
        "q3.check()"
      ],
      "metadata": {
        "execution": {
          "iopub.status.busy": "2024-08-16T21:07:28.125414Z",
          "iopub.execute_input": "2024-08-16T21:07:28.125848Z",
          "iopub.status.idle": "2024-08-16T21:07:28.137017Z",
          "shell.execute_reply.started": "2024-08-16T21:07:28.125804Z",
          "shell.execute_reply": "2024-08-16T21:07:28.135762Z"
        },
        "trusted": true,
        "id": "dL3p0rZy5Pbi",
        "outputId": "8ddffc44-f98e-4889-e1ef-1e4977295c10"
      },
      "execution_count": null,
      "outputs": [
        {
          "output_type": "display_data",
          "data": {
            "text/plain": "<IPython.core.display.Javascript object>",
            "application/javascript": "parent.postMessage({\"jupyterEvent\": \"custom.exercise_interaction\", \"data\": {\"outcomeType\": 1, \"valueTowardsCompletion\": 0.2, \"interactionType\": 1, \"questionType\": 2, \"questionId\": \"3_GetCostPaint\", \"learnToolsVersion\": \"0.3.4\", \"failureMessage\": \"\", \"exceptionClass\": \"\", \"trace\": \"\"}}, \"*\")"
          },
          "metadata": {}
        },
        {
          "output_type": "display_data",
          "data": {
            "text/plain": "Correct",
            "text/markdown": "<span style=\"color:#33cc33\">Correct</span>"
          },
          "metadata": {}
        }
      ]
    },
    {
      "cell_type": "code",
      "source": [
        "# Uncomment to see a hint\n",
        "q3.hint()\n",
        "\n",
        "# Uncomment to view the solution\n",
        "q3.solution()"
      ],
      "metadata": {
        "execution": {
          "iopub.status.busy": "2024-08-16T21:07:33.76701Z",
          "iopub.execute_input": "2024-08-16T21:07:33.767435Z",
          "iopub.status.idle": "2024-08-16T21:07:33.782385Z",
          "shell.execute_reply.started": "2024-08-16T21:07:33.767399Z",
          "shell.execute_reply": "2024-08-16T21:07:33.780885Z"
        },
        "trusted": true,
        "id": "rYC6VAz85Pbi",
        "outputId": "da1a9831-6063-498a-f628-80ab431adb75"
      },
      "execution_count": null,
      "outputs": [
        {
          "output_type": "display_data",
          "data": {
            "text/plain": "<IPython.core.display.Javascript object>",
            "application/javascript": "parent.postMessage({\"jupyterEvent\": \"custom.exercise_interaction\", \"data\": {\"interactionType\": 2, \"questionType\": 2, \"questionId\": \"3_GetCostPaint\", \"learnToolsVersion\": \"0.3.4\", \"valueTowardsCompletion\": 0.0, \"failureMessage\": \"\", \"exceptionClass\": \"\", \"trace\": \"\", \"outcomeType\": 4}}, \"*\")"
          },
          "metadata": {}
        },
        {
          "output_type": "display_data",
          "data": {
            "text/plain": "Hint: Begin by calculating the total number of square feet that need to be painted. Then, based on that, figure out how many gallons you need.  Then, once you know how many gallons you need, you can calculate the total cost of the project.",
            "text/markdown": "<span style=\"color:#3366cc\">Hint:</span> Begin by calculating the total number of square feet that need to be painted. Then, based on that, figure out how many gallons you need.  Then, once you know how many gallons you need, you can calculate the total cost of the project."
          },
          "metadata": {}
        },
        {
          "output_type": "display_data",
          "data": {
            "text/plain": "<IPython.core.display.Javascript object>",
            "application/javascript": "parent.postMessage({\"jupyterEvent\": \"custom.exercise_interaction\", \"data\": {\"interactionType\": 3, \"questionType\": 2, \"questionId\": \"3_GetCostPaint\", \"learnToolsVersion\": \"0.3.4\", \"valueTowardsCompletion\": 0.0, \"failureMessage\": \"\", \"exceptionClass\": \"\", \"trace\": \"\", \"outcomeType\": 4}}, \"*\")"
          },
          "metadata": {}
        },
        {
          "output_type": "display_data",
          "data": {
            "text/plain": "Solution: \n```python\n\ndef get_cost(sqft_walls, sqft_ceiling, sqft_per_gallon, cost_per_gallon):\n    total_sqft = sqft_walls + sqft_ceiling\n    gallons_needed = total_sqft / sqft_per_gallon\n    cost = cost_per_gallon * gallons_needed\n    return cost\n\n```",
            "text/markdown": "<span style=\"color:#33cc99\">Solution:</span> \n```python\n\ndef get_cost(sqft_walls, sqft_ceiling, sqft_per_gallon, cost_per_gallon):\n    total_sqft = sqft_walls + sqft_ceiling\n    gallons_needed = total_sqft / sqft_per_gallon\n    cost = cost_per_gallon * gallons_needed\n    return cost\n\n```"
          },
          "metadata": {}
        }
      ]
    },
    {
      "cell_type": "markdown",
      "source": [
        "# Question 4\n",
        "\n",
        "Use the `get_cost()` function you defined in Question 3 to calculate the cost of applying one coat of paint to a room with:\n",
        "- 432 square feet of walls, and\n",
        "- 144 square feet of ceiling.\n",
        "\n",
        "Assume that one gallon of paint covers 400 square feet and costs $15.  As in Question 3, assume you can buy partial gallons of paint.  Do not round your answer."
      ],
      "metadata": {
        "id": "PAF5uFwQ5Pbi"
      }
    },
    {
      "cell_type": "code",
      "source": [
        "# TODO: Set the project_cost variable to the cost of the project\n",
        "project_cost = get_cost(432, 144, 400, 15)\n",
        "\n",
        "# Check your answer\n",
        "q4.check()"
      ],
      "metadata": {
        "execution": {
          "iopub.status.busy": "2024-08-16T21:09:07.11271Z",
          "iopub.execute_input": "2024-08-16T21:09:07.113179Z",
          "iopub.status.idle": "2024-08-16T21:09:07.124794Z",
          "shell.execute_reply.started": "2024-08-16T21:09:07.113143Z",
          "shell.execute_reply": "2024-08-16T21:09:07.123462Z"
        },
        "trusted": true,
        "id": "z38A9hrG5Pbi",
        "outputId": "d93f3783-7cfc-42ba-864c-c7fce5172405"
      },
      "execution_count": null,
      "outputs": [
        {
          "output_type": "display_data",
          "data": {
            "text/plain": "<IPython.core.display.Javascript object>",
            "application/javascript": "parent.postMessage({\"jupyterEvent\": \"custom.exercise_interaction\", \"data\": {\"outcomeType\": 1, \"valueTowardsCompletion\": 0.2, \"interactionType\": 1, \"questionType\": 1, \"questionId\": \"4_GetCostPaintExample\", \"learnToolsVersion\": \"0.3.4\", \"failureMessage\": \"\", \"exceptionClass\": \"\", \"trace\": \"\"}}, \"*\")"
          },
          "metadata": {}
        },
        {
          "output_type": "display_data",
          "data": {
            "text/plain": "Correct",
            "text/markdown": "<span style=\"color:#33cc33\">Correct</span>"
          },
          "metadata": {}
        }
      ]
    },
    {
      "cell_type": "code",
      "source": [
        "# Uncomment to see a hint\n",
        "q4.hint()\n",
        "\n",
        "# Uncomment to view the solution\n",
        "q4.solution()"
      ],
      "metadata": {
        "execution": {
          "iopub.status.busy": "2024-08-16T21:09:13.648899Z",
          "iopub.execute_input": "2024-08-16T21:09:13.649398Z",
          "iopub.status.idle": "2024-08-16T21:09:13.665135Z",
          "shell.execute_reply.started": "2024-08-16T21:09:13.649358Z",
          "shell.execute_reply": "2024-08-16T21:09:13.663819Z"
        },
        "trusted": true,
        "id": "HrAzwkFn5Pbj",
        "outputId": "77a11701-cd13-4498-9b60-7cf003ee01cf"
      },
      "execution_count": null,
      "outputs": [
        {
          "output_type": "display_data",
          "data": {
            "text/plain": "<IPython.core.display.Javascript object>",
            "application/javascript": "parent.postMessage({\"jupyterEvent\": \"custom.exercise_interaction\", \"data\": {\"interactionType\": 2, \"questionType\": 1, \"questionId\": \"4_GetCostPaintExample\", \"learnToolsVersion\": \"0.3.4\", \"valueTowardsCompletion\": 0.0, \"failureMessage\": \"\", \"exceptionClass\": \"\", \"trace\": \"\", \"outcomeType\": 4}}, \"*\")"
          },
          "metadata": {}
        },
        {
          "output_type": "display_data",
          "data": {
            "text/plain": "Hint: If we needed to instead calculate the cost of applying one coat of paint to a room with 800 square feet of walls and 160 square feet of ceiling, and one gallon of paint covered 300 square feet and cost $10, we would set `project_cost = get_cost(800, 160, 300, 10)`.",
            "text/markdown": "<span style=\"color:#3366cc\">Hint:</span> If we needed to instead calculate the cost of applying one coat of paint to a room with 800 square feet of walls and 160 square feet of ceiling, and one gallon of paint covered 300 square feet and cost $10, we would set `project_cost = get_cost(800, 160, 300, 10)`."
          },
          "metadata": {}
        },
        {
          "output_type": "display_data",
          "data": {
            "text/plain": "<IPython.core.display.Javascript object>",
            "application/javascript": "parent.postMessage({\"jupyterEvent\": \"custom.exercise_interaction\", \"data\": {\"interactionType\": 3, \"questionType\": 1, \"questionId\": \"4_GetCostPaintExample\", \"learnToolsVersion\": \"0.3.4\", \"valueTowardsCompletion\": 0.0, \"failureMessage\": \"\", \"exceptionClass\": \"\", \"trace\": \"\", \"outcomeType\": 4}}, \"*\")"
          },
          "metadata": {}
        },
        {
          "output_type": "display_data",
          "data": {
            "text/plain": "Solution: \n```python\n# Set the project_cost variable to the cost of the project\nproject_cost = get_cost(432, 144, 400, 15) \n\n```",
            "text/markdown": "<span style=\"color:#33cc99\">Solution:</span> \n```python\n# Set the project_cost variable to the cost of the project\nproject_cost = get_cost(432, 144, 400, 15) \n\n```"
          },
          "metadata": {}
        }
      ]
    },
    {
      "cell_type": "markdown",
      "source": [
        "# 🌶️ Question 5\n",
        "\n",
        "Now say you can no longer buy fractions of a gallon.  (For instance, if you need 4.3 gallons to do a project, then you have to buy 5 gallons of paint.)\n",
        "\n",
        "With this new scenario, you will create a new function `get_actual_cost` that uses the same inputs and calculates the cost of your project.\n",
        "\n",
        "One function that you'll need to use to do this is `math.ceil()`.  We demonstrate usage of this function in the code cell below.  It takes as a number as input and rounds the number up to the nearest integer.  \n",
        "\n",
        "Run the next code cell to test this function for yourself.  Feel free to change the value of `test_value` and make sure `math.ceil()` returns the number you expect."
      ],
      "metadata": {
        "id": "AgLrpOy15Pbj"
      }
    },
    {
      "cell_type": "code",
      "source": [
        "test_value = 2.17\n",
        "\n",
        "rounded_value = math.ceil(test_value)\n",
        "print(rounded_value)"
      ],
      "metadata": {
        "execution": {
          "iopub.status.busy": "2024-08-16T21:10:34.06046Z",
          "iopub.execute_input": "2024-08-16T21:10:34.060914Z",
          "iopub.status.idle": "2024-08-16T21:10:34.067781Z",
          "shell.execute_reply.started": "2024-08-16T21:10:34.060882Z",
          "shell.execute_reply": "2024-08-16T21:10:34.066375Z"
        },
        "trusted": true,
        "id": "-83iQzfG5Pbj",
        "outputId": "5647fbe1-d49a-4920-c3cb-e6afd1e935a9"
      },
      "execution_count": null,
      "outputs": [
        {
          "name": "stdout",
          "text": "3\n",
          "output_type": "stream"
        }
      ]
    },
    {
      "cell_type": "markdown",
      "source": [
        "Use the next code cell to define the function `get_actual_cost()`.  You'll need to use the `math.ceil()` function to do this.\n",
        "\n",
        "When answering this question, note that it's completely valid to define a function that makes use of another function.  For instance, we can define a function `round_up_and_divide_by_three` that makes use of the `math.ceil` function:\n",
        "```\n",
        "def round_up_and_divide_by_three(num):\n",
        "    new_value = math.ceil(num)\n",
        "    final_value = new_value / 3\n",
        "    return final_value\n",
        "```"
      ],
      "metadata": {
        "id": "57NPOgsx5Pbj"
      }
    },
    {
      "cell_type": "code",
      "source": [
        "def get_actual_cost(sqft_walls, sqft_ceiling, sqft_per_gallon, cost_per_gallon):\n",
        "    total_sqft = sqft_walls + sqft_ceiling\n",
        "    gallons_needed = math.ceil(total_sqft / sqft_per_gallon)\n",
        "    cost = cost_per_gallon * gallons_needed\n",
        "    return cost\n",
        "\n",
        "# Check your answer\n",
        "q5.check()"
      ],
      "metadata": {
        "execution": {
          "iopub.status.busy": "2024-08-16T21:13:51.275414Z",
          "iopub.execute_input": "2024-08-16T21:13:51.275861Z",
          "iopub.status.idle": "2024-08-16T21:13:51.28845Z",
          "shell.execute_reply.started": "2024-08-16T21:13:51.275822Z",
          "shell.execute_reply": "2024-08-16T21:13:51.287085Z"
        },
        "trusted": true,
        "id": "ufkGsxIb5Pbj",
        "outputId": "318d4794-c476-41fa-ff64-6b7daa48190c"
      },
      "execution_count": null,
      "outputs": [
        {
          "output_type": "display_data",
          "data": {
            "text/plain": "<IPython.core.display.Javascript object>",
            "application/javascript": "parent.postMessage({\"jupyterEvent\": \"custom.exercise_interaction\", \"data\": {\"outcomeType\": 1, \"valueTowardsCompletion\": 0.2, \"interactionType\": 1, \"questionType\": 2, \"questionId\": \"5_NoMoreFractions\", \"learnToolsVersion\": \"0.3.4\", \"failureMessage\": \"\", \"exceptionClass\": \"\", \"trace\": \"\"}}, \"*\")"
          },
          "metadata": {}
        },
        {
          "output_type": "display_data",
          "data": {
            "text/plain": "Correct",
            "text/markdown": "<span style=\"color:#33cc33\">Correct</span>"
          },
          "metadata": {}
        }
      ]
    },
    {
      "cell_type": "code",
      "source": [
        "# Uncomment to see a hint\n",
        "q5.hint()\n",
        "\n",
        "# Uncomment to view the solution\n",
        "q5.solution()"
      ],
      "metadata": {
        "execution": {
          "iopub.status.busy": "2024-08-16T21:13:56.122945Z",
          "iopub.execute_input": "2024-08-16T21:13:56.123371Z",
          "iopub.status.idle": "2024-08-16T21:13:56.137705Z",
          "shell.execute_reply.started": "2024-08-16T21:13:56.123339Z",
          "shell.execute_reply": "2024-08-16T21:13:56.136645Z"
        },
        "trusted": true,
        "id": "WSDa56wm5Pbk",
        "outputId": "c3b1aa7f-8e81-4b77-d7f1-35db7ac3715f"
      },
      "execution_count": null,
      "outputs": [
        {
          "output_type": "display_data",
          "data": {
            "text/plain": "<IPython.core.display.Javascript object>",
            "application/javascript": "parent.postMessage({\"jupyterEvent\": \"custom.exercise_interaction\", \"data\": {\"interactionType\": 2, \"questionType\": 2, \"questionId\": \"5_NoMoreFractions\", \"learnToolsVersion\": \"0.3.4\", \"valueTowardsCompletion\": 0.0, \"failureMessage\": \"\", \"exceptionClass\": \"\", \"trace\": \"\", \"outcomeType\": 4}}, \"*\")"
          },
          "metadata": {}
        },
        {
          "output_type": "display_data",
          "data": {
            "text/plain": "Hint: Begin with the `get_cost()` function as a starting point.  The only change you need to make is to add `math.ceil()` to round up the number of gallons that need to be purchased. Can you figure out where to add it to the function?",
            "text/markdown": "<span style=\"color:#3366cc\">Hint:</span> Begin with the `get_cost()` function as a starting point.  The only change you need to make is to add `math.ceil()` to round up the number of gallons that need to be purchased. Can you figure out where to add it to the function?"
          },
          "metadata": {}
        },
        {
          "output_type": "display_data",
          "data": {
            "text/plain": "<IPython.core.display.Javascript object>",
            "application/javascript": "parent.postMessage({\"jupyterEvent\": \"custom.exercise_interaction\", \"data\": {\"interactionType\": 3, \"questionType\": 2, \"questionId\": \"5_NoMoreFractions\", \"learnToolsVersion\": \"0.3.4\", \"valueTowardsCompletion\": 0.0, \"failureMessage\": \"\", \"exceptionClass\": \"\", \"trace\": \"\", \"outcomeType\": 4}}, \"*\")"
          },
          "metadata": {}
        },
        {
          "output_type": "display_data",
          "data": {
            "text/plain": "Solution: \n```python\ndef get_actual_cost(sqft_walls, sqft_ceiling, sqft_per_gallon, cost_per_gallon):\n    total_sqft = sqft_walls + sqft_ceiling\n    gallons_needed = total_sqft / sqft_per_gallon\n    gallons_to_buy = math.ceil(gallons_needed)\n    cost = cost_per_gallon * gallons_to_buy\n    return cost\n\n```",
            "text/markdown": "<span style=\"color:#33cc99\">Solution:</span> \n```python\ndef get_actual_cost(sqft_walls, sqft_ceiling, sqft_per_gallon, cost_per_gallon):\n    total_sqft = sqft_walls + sqft_ceiling\n    gallons_needed = total_sqft / sqft_per_gallon\n    gallons_to_buy = math.ceil(gallons_needed)\n    cost = cost_per_gallon * gallons_to_buy\n    return cost\n\n```"
          },
          "metadata": {}
        }
      ]
    },
    {
      "cell_type": "markdown",
      "source": [
        "Once your function is verified as correct, run the next code cell to calculate the updated cost of your project."
      ],
      "metadata": {
        "id": "Co1fwcnf5Pbk"
      }
    },
    {
      "cell_type": "code",
      "source": [
        "get_actual_cost(432, 144, 400, 15)"
      ],
      "metadata": {
        "execution": {
          "iopub.status.busy": "2024-08-16T21:14:33.756575Z",
          "iopub.execute_input": "2024-08-16T21:14:33.75707Z",
          "iopub.status.idle": "2024-08-16T21:14:33.766681Z",
          "shell.execute_reply.started": "2024-08-16T21:14:33.757031Z",
          "shell.execute_reply": "2024-08-16T21:14:33.765083Z"
        },
        "trusted": true,
        "id": "HyvTVHeJ5Pbk",
        "outputId": "e86c9256-c1ba-4a2c-949d-fb8e33182fdc"
      },
      "execution_count": null,
      "outputs": [
        {
          "execution_count": 14,
          "output_type": "execute_result",
          "data": {
            "text/plain": "30"
          },
          "metadata": {}
        }
      ]
    },
    {
      "cell_type": "markdown",
      "source": [
        "Say you're working with a slightly larger room.  Run the next code cell to calculate the cost of the project."
      ],
      "metadata": {
        "id": "z8uvSW6b5Pbk"
      }
    },
    {
      "cell_type": "code",
      "source": [
        "get_actual_cost(594, 288, 400, 15)"
      ],
      "metadata": {
        "execution": {
          "iopub.status.busy": "2024-08-16T21:14:41.610851Z",
          "iopub.execute_input": "2024-08-16T21:14:41.611348Z",
          "iopub.status.idle": "2024-08-16T21:14:41.619632Z",
          "shell.execute_reply.started": "2024-08-16T21:14:41.611274Z",
          "shell.execute_reply": "2024-08-16T21:14:41.618238Z"
        },
        "trusted": true,
        "id": "XsjUrxPf5Pbk",
        "outputId": "d7862cf9-439f-4e0d-8318-881eee51a396"
      },
      "execution_count": null,
      "outputs": [
        {
          "execution_count": 15,
          "output_type": "execute_result",
          "data": {
            "text/plain": "45"
          },
          "metadata": {}
        }
      ]
    },
    {
      "cell_type": "markdown",
      "source": [
        "# Keep going\n",
        "\n",
        "Continue to learn about **[data types](https://www.kaggle.com/alexisbcook/data-types)**."
      ],
      "metadata": {
        "id": "wzK1Mmep5Pbk"
      }
    },
    {
      "cell_type": "markdown",
      "source": [
        "---\n",
        "\n",
        "\n",
        "\n",
        "\n",
        "*Have questions or comments? Visit the [course discussion forum](https://www.kaggle.com/learn/intro-to-programming/discussion) to chat with other learners.*"
      ],
      "metadata": {
        "id": "S1z8jsnT5Pbk"
      }
    }
  ]
}
